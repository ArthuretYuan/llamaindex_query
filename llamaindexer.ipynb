{
 "cells": [
  {
   "cell_type": "markdown",
   "metadata": {},
   "source": [
    "Installation"
   ]
  },
  {
   "cell_type": "code",
   "execution_count": null,
   "metadata": {},
   "outputs": [],
   "source": [
    "! pip install llama-index-core llama-parse llama-index-readers-file python-dotenv"
   ]
  },
  {
   "cell_type": "markdown",
   "metadata": {},
   "source": [
    "Build a parser based on a file (.pdf)"
   ]
  },
  {
   "cell_type": "code",
   "execution_count": null,
   "metadata": {},
   "outputs": [
    {
     "name": "stdout",
     "output_type": "stream",
     "text": [
      "Started parsing the file under job_id 0b343585-cebe-4a77-bdb1-28a741c5d5d2\n",
      ".[Document(id_='48c61607-1ea6-459d-9c38-bbeb13529a5c', embedding=None, metadata={'file_path': '/Users/yaxiong/Documents/vscodes/llamaindex_query/data/canada.pdf', 'file_name': 'canada.pdf', 'file_type': 'application/pdf', 'file_size': 335061, 'creation_date': '2025-01-21', 'last_modified_date': '2025-01-21'}, excluded_embed_metadata_keys=['file_name', 'file_type', 'file_size', 'creation_date', 'last_modified_date', 'last_accessed_date'], excluded_llm_metadata_keys=['file_name', 'file_type', 'file_size', 'creation_date', 'last_modified_date', 'last_accessed_date'], relationships={}, metadata_template='{key}: {value}', metadata_separator='\\n', text_resource=MediaResource(embeddings=None, data=None, text='# Fun Facts About Canada\\n\\nWe may be known as the Great White North, but we’re also green and blue! Did you know Canada has more lakes than the rest of the world combined and is home to 10% of the world’s forests? Some of its national parks are bigger than entire countries!\\n\\nWild about wildlife: Canada is home to 2.4 million caribou and 15,500 of the world’s 25,000 polar bears, not to mention home to 22 different species of whales.\\n\\nCanada’s Great Trail, a network of trails stretching across the country from coast-to-coast-to-coast, is the longest recreational trail in the world. At 24,000km of land- and water-based trail, it’s longer than the Great Wall of China (8,851km).\\n\\nCanada is made for outdoor adventurers. Did you know you can raft-surf the world’s highest tides at the Bay of Fundy, paddle with orcas in British Columbia, track the largest caribou migration in Nunavut or kayak past icebergs and humpback whales in Newfoundland and Labrador?\\n\\nCanada is known as a diverse nation that’s welcoming to immigrants. In 2016, over 250 ethnic ancestries were reported by the Canadian population, contributing to a rich and vibrant culture and culinary scene.\\n\\nWell-educated: More than half of Canadians have earned college degrees, making it the world’s most educated nation.\\n\\nCanada is home to North America’s only remaining walled city—the historic neighbourhood of Old Quebec, also the first city in North America to be placed on UNESCO’s World Heritage Sites list.\\n\\nCanada has the world’s most northern settlement: Alert, Nunavut, just shy of the North Pole. That’s why Santa has his own Canada Post postal code here, (H0H 0H0), where kids can send him letters at Christmas (he responds).\\n\\nCan you guess Canada’s most played sport? Perhaps a bit surprising, it’s golf, followed by the beloved national pastime, ice hockey.', path=None, url=None, mimetype=None), image_resource=None, audio_resource=None, video_resource=None, text_template='{metadata_str}\\n\\n{content}'), Document(id_='96ff759b-d3a4-4f0e-a557-084dcc1dd4ee', embedding=None, metadata={'file_path': '/Users/yaxiong/Documents/vscodes/llamaindex_query/data/canada.pdf', 'file_name': 'canada.pdf', 'file_type': 'application/pdf', 'file_size': 335061, 'creation_date': '2025-01-21', 'last_modified_date': '2025-01-21'}, excluded_embed_metadata_keys=['file_name', 'file_type', 'file_size', 'creation_date', 'last_modified_date', 'last_accessed_date'], excluded_llm_metadata_keys=['file_name', 'file_type', 'file_size', 'creation_date', 'last_modified_date', 'last_accessed_date'], relationships={}, metadata_template='{key}: {value}', metadata_separator='\\n', text_resource=MediaResource(embeddings=None, data=None, text='Canada produces 70% of the world’s maple syrup — and nearly all of it comes from Quebec maples.\\n\\nCanadians love their poutine, but are crazy about decadent dough rings! Canada has the most doughnut shops per capita in the world and its people consume the most doughnuts of anywhere else in the world.\\n\\nOttawa, Canada’s capital region, houses the country’s most precious cultural treasures. Eight of Canada’s nine national museums and galleries are located here. The ninth is the Canadian Museum for Human Rights in Winnipeg, Manitoba.\\n\\nCanada is home to the longest running ballet company in North America – the internationally renowned Royal Winnipeg Ballet in Manitoba is the oldest ballet company in Canada.\\n\\nCanada is the number 1 travel destination in the world, according to Travel + Leisure magazine (2017) (and Lonely Planet), singled out for its unspoiled landscapes, dynamic cities, cultural institutions and welcoming spirit.\\n\\nkeepexploring.ca', path=None, url=None, mimetype=None), image_resource=None, audio_resource=None, video_resource=None, text_template='{metadata_str}\\n\\n{content}')]\n"
     ]
    }
   ],
   "source": [
    "# bring in our LLAMA_CLOUD_API_KEY\n",
    "from dotenv import load_dotenv\n",
    "load_dotenv('./secret.env')\n",
    "\n",
    "# to resolve the file load issue\n",
    "import nest_asyncio \n",
    "nest_asyncio.apply()\n",
    "\n",
    "# bring in deps\n",
    "from llama_parse import LlamaParse\n",
    "from llama_index.core import SimpleDirectoryReader\n",
    "\n",
    "# set up parser\n",
    "parser = LlamaParse(\n",
    "    result_type=\"markdown\"  # \"markdown\" and \"text\" are available\n",
    ")\n",
    "\n",
    "# use SimpleDirectoryReader to parse our file\n",
    "file_extractor = {\".pdf\": parser}\n",
    "documents = SimpleDirectoryReader(input_files=['/Users/yaxiong/Documents/vscodes/llamaindex_query/data/canada.pdf'], file_extractor=file_extractor).load_data()\n",
    "print(documents)"
   ]
  },
  {
   "cell_type": "markdown",
   "metadata": {},
   "source": [
    "Query the document using LLM"
   ]
  },
  {
   "cell_type": "code",
   "execution_count": null,
   "metadata": {},
   "outputs": [],
   "source": [
    "! pip install llama-index-llms-openai llama-index-embeddings-openai"
   ]
  },
  {
   "cell_type": "code",
   "execution_count": 10,
   "metadata": {},
   "outputs": [
    {
     "name": "stdout",
     "output_type": "stream",
     "text": [
      "You can raft-surf the world’s highest tides at the Bay of Fundy.\n"
     ]
    }
   ],
   "source": [
    "# one extra dep\n",
    "from llama_index.core import VectorStoreIndex\n",
    "\n",
    "# create an index from the parsed markdown\n",
    "index = VectorStoreIndex.from_documents(documents)\n",
    "\n",
    "# create a query engine for the index\n",
    "query_engine = index.as_query_engine()\n",
    "\n",
    "# query the engine\n",
    "query = \"What can you do in the Bay of Fundy?\"\n",
    "response = query_engine.query(query)\n",
    "print(response)"
   ]
  }
 ],
 "metadata": {
  "kernelspec": {
   "display_name": "llamaindex",
   "language": "python",
   "name": "python3"
  },
  "language_info": {
   "codemirror_mode": {
    "name": "ipython",
    "version": 3
   },
   "file_extension": ".py",
   "mimetype": "text/x-python",
   "name": "python",
   "nbconvert_exporter": "python",
   "pygments_lexer": "ipython3",
   "version": "3.11.11"
  }
 },
 "nbformat": 4,
 "nbformat_minor": 2
}
